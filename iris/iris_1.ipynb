{
 "metadata": {
  "name": "",
  "signature": "sha256:0440cf8ddd344ce4b7bc254c4b5a357a3b32fec6b173bb72e28e598c82002776"
 },
 "nbformat": 3,
 "nbformat_minor": 0,
 "worksheets": [
  {
   "cells": [
    {
     "cell_type": "markdown",
     "metadata": {},
     "source": [
      "######Data:\n",
      "Iris dataset downloaded from https://archive.ics.uci.edu/ml/machine-learning-databases/iris/\n",
      "\n",
      "###### Variables:\n",
      "- sepal length\n",
      "- sepal width\n",
      "- petal length\n",
      "- petal width"
     ]
    },
    {
     "cell_type": "code",
     "collapsed": false,
     "input": [
      "import numpy as np\n",
      "import scipy as sp\n",
      "import scipy.stats\n",
      "import matplotlib.pyplot as plt\n",
      "import os\n",
      "import csv"
     ],
     "language": "python",
     "metadata": {},
     "outputs": [],
     "prompt_number": 117
    },
    {
     "cell_type": "heading",
     "level": 6,
     "metadata": {},
     "source": [
      "Read data"
     ]
    },
    {
     "cell_type": "code",
     "collapsed": false,
     "input": [
      "fileIn = os.path.join('data', 'iris.data')\n",
      "data = []\n",
      "labels = []\n",
      "with open(fileIn, 'r') as f:\n",
      "    reader = csv.reader(f)\n",
      "    for line in reader:\n",
      "        try:\n",
      "            labels.append(line[-1])\n",
      "            data.append(line[:-1])\n",
      "        except:\n",
      "            pass\n",
      "data = np.array(data, dtype = np.float64)\n",
      "iris_dict = {'Iris-virginica': 2, 'Iris-setosa': 0, 'Iris-versicolor': 1}\n",
      "labels = np.array([iris_dict[l] for l in labels], dtype = np.int)"
     ],
     "language": "python",
     "metadata": {},
     "outputs": [],
     "prompt_number": 57
    },
    {
     "cell_type": "heading",
     "level": 6,
     "metadata": {},
     "source": [
      "KNN function"
     ]
    },
    {
     "cell_type": "code",
     "collapsed": false,
     "input": [
      "def knn(data, labels, observation, k):\n",
      "    norms = np.linalg.norm(data - observation, axis = 1)\n",
      "    nearest = np.argpartition(-norms, kth = -k)[-k:]\n",
      "    #print \"Nearest indices: \", nearest\n",
      "    #print labels[nearest]\n",
      "    return scipy.stats.mode(labels[nearest])[0]"
     ],
     "language": "python",
     "metadata": {},
     "outputs": [],
     "prompt_number": 128
    },
    {
     "cell_type": "heading",
     "level": 6,
     "metadata": {},
     "source": [
      "Training and test data"
     ]
    },
    {
     "cell_type": "code",
     "collapsed": false,
     "input": [
      "n = data.shape[0]\n",
      "train_index = np.zeros(shape = n, dtype = np.bool)\n",
      "n_train = int(n*.66)\n",
      "### set seed for train/test random separation\n",
      "np.random.seed(1234)\n",
      "train_index[np.random.choice(a = range(n), size = n_train, replace = False)] = True\n",
      "### split data and labels into train and test\n",
      "train = data[train_index]\n",
      "test = data[np.logical_not(train_index)]\n",
      "train_labels = labels[train_index]\n",
      "test_labels = labels[np.logical_not(train_index)]"
     ],
     "language": "python",
     "metadata": {},
     "outputs": [],
     "prompt_number": 129
    },
    {
     "cell_type": "heading",
     "level": 6,
     "metadata": {},
     "source": [
      "Checking performance with the above split"
     ]
    },
    {
     "cell_type": "code",
     "collapsed": false,
     "input": [
      "predictions = np.ndarray(test_labels.shape[0], dtype = np.uint8)\n",
      "k = 5 \n",
      "for i in range(test.shape[0]):\n",
      "    predictions[i] = knn(train, train_labels, test[i], k = k)\n",
      "confusion = np.zeros((3,3))\n",
      "for i, prediction in enumerate(predictions):\n",
      "    confusion[test_labels[i], prediction] += 1\n",
      "print \"Confusion matrix for prediction with k = {0}\".format(k)\n",
      "confusion"
     ],
     "language": "python",
     "metadata": {},
     "outputs": [
      {
       "output_type": "stream",
       "stream": "stdout",
       "text": [
        "Confusion matrix for prediction with k = 5\n"
       ]
      },
      {
       "metadata": {},
       "output_type": "pyout",
       "prompt_number": 134,
       "text": [
        "array([[ 17.,   0.,   0.],\n",
        "       [  0.,  15.,   0.],\n",
        "       [  0.,   2.,  17.]])"
       ]
      }
     ],
     "prompt_number": 134
    },
    {
     "cell_type": "heading",
     "level": 6,
     "metadata": {},
     "source": [
      "sklearn knn"
     ]
    },
    {
     "cell_type": "code",
     "collapsed": false,
     "input": [
      "from sklearn import neighbors\n",
      "from sklearn import datasets\n",
      "from matplotlib.colors import ListedColormap"
     ],
     "language": "python",
     "metadata": {},
     "outputs": [],
     "prompt_number": 155
    },
    {
     "cell_type": "code",
     "collapsed": false,
     "input": [
      "X = data[:,2:]\n",
      "y = labels"
     ],
     "language": "python",
     "metadata": {},
     "outputs": [],
     "prompt_number": 172
    },
    {
     "cell_type": "code",
     "collapsed": false,
     "input": [
      "h = 0.01\n",
      "k = 5\n",
      "fig1, ax1 = plt.subplots(num = 1, ncols = 2, figsize = (10,5))\n",
      "\n",
      "### Create color maps\n",
      "cmap_light = ListedColormap(['#FFAAAA', '#AAFFAA', '#AAAAFF'])\n",
      "cmap_bold = ListedColormap(['#FF0000', '#00FF00', '#0000FF'])\n",
      "\n",
      "for i, weights in enumerate(['uniform', 'distance']):\n",
      "    clf = neighbors.KNeighborsClassifier(k, weights = weights)\n",
      "    clf.fit(X, y)\n",
      "    # Plot the decision boundary. For that, we will assign a color to each\n",
      "    # point in the mesh [x_min, m_max]x[y_min, y_max].\n",
      "    x_min, x_max = X[:, 0].min() - 1, X[:, 0].max() + 1\n",
      "    y_min, y_max = X[:, 1].min() - 1, X[:, 1].max() + 1\n",
      "    xx, yy = np.meshgrid(np.arange(x_min, x_max, h),\n",
      "                         np.arange(y_min, y_max, h))\n",
      "    Z = clf.predict(np.c_[xx.ravel(), yy.ravel()])\n",
      "\n",
      "    # Put the result into a color plot\n",
      "    Z = Z.reshape(xx.shape)\n",
      "    ax1[i].pcolormesh(xx, yy, Z, cmap=cmap_light)\n",
      "\n",
      "    # Plot also the training points\n",
      "    ax1[i].scatter(X[:, 0], X[:, 1], c=y, cmap=cmap_bold)\n",
      "    ax1[i].set_xlim(xx.min(), xx.max())\n",
      "    ax1[i].set_ylim(yy.min(), yy.max())\n",
      "    ax1[i].set_title(\"3-Class classification (k = %i, weights = '%s')\" %(k, weights), fontsize = 10)\n",
      "\n",
      "fig1.show()"
     ],
     "language": "python",
     "metadata": {},
     "outputs": [],
     "prompt_number": 173
    },
    {
     "cell_type": "code",
     "collapsed": false,
     "input": [
      "np.r_?"
     ],
     "language": "python",
     "metadata": {},
     "outputs": [],
     "prompt_number": 178
    },
    {
     "cell_type": "code",
     "collapsed": false,
     "input": [],
     "language": "python",
     "metadata": {},
     "outputs": []
    }
   ],
   "metadata": {}
  }
 ]
}
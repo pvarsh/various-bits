{
 "metadata": {
  "name": "",
  "signature": "sha256:cde42a156be972de3e3dd8697a1270a7d60bb07bed7f3afc142afda732b52760"
 },
 "nbformat": 3,
 "nbformat_minor": 0,
 "worksheets": [
  {
   "cells": [
    {
     "cell_type": "code",
     "collapsed": false,
     "input": [
      "import string"
     ],
     "language": "python",
     "metadata": {},
     "outputs": [],
     "prompt_number": 11
    },
    {
     "cell_type": "code",
     "collapsed": false,
     "input": [
      "s1 = \" ALBANY 41,147,937.95  Albany12,557,431.30 Berne-Knox-Westerlo1,157,282.33 Bethlehem4,954,837.96 Cohoes3,087,607.22 Green Island397,727.95 Guilderland4,561,636.93 Maplewood- Menands CSD116,070.65 North Colonie4,216,873.37 Ravena-Coeymans2,384,621.05 South Colonie4,550,752.01 Voorheesville953,969.65 Watervliet2,209,127.53  ALLEGANY 12,329,611.73  Alfred Almond920,977.91  Andover663,632.02  Angelica-Belmont1,156,630.92 Belfast703,198.25 Belmont- Bolivar-Richburg1,596,319.19 Canaseraga462,554.37 Cuba- Cuba-Rushford1,433,990.32 Fillmore1,254,079.70 Friendship730,338.51 Richburg- Rushford- Scio768,394.06 Wellsville2,127,587.44 Whitesville511,909.04 BROOME 42,182,249.63 Binghamton8,618,408.87 Chenango Forks2,731,164.28 Chenango Valley2,472,317.49 Deposit630,095.65 Harpursville1,580,390.94 Johnson City3,696,230.42 Maine-Endwell3,846,699.22 South Mountain- Susquehanna Valley2,631,932.21 Union-Endicott5,851,642.09 Vestal4,443,577.41 Whitney Point2,852,791.68 Windsor2,826,999.37 CATTARAUGUS 21,973,393.59\" \n",
      "s2 = \" Allegany-Limestone1,928,922.74 Cattaraugus1,734,650.84 Ellicottville129,360.41 Franklinville1,465,567.97 Gowanda2,387,625.71 Hinsdale783,187.11 Limestone- Little Valley- Olean3,580,914.98 Portville1,424,477.80 Randolph1,432,540.03 Randolph Childrens Home- Salamanca2,492,811.86 West Valley559,507.34 Yorkshire-Pioneer4,053,826.80 CAYUGA 14,072,688.51  Auburn5,973,809.80 Cato-Meridian1,731,756.99 Moravia1,453,314.71 Port Byron1,627,903.24 Southern Cayuga878,184.25 Union Springs1,148,122.53 Weedsport1,259,596.99 CHAUTAUQUA 31,081,477.36 Bemus Point718,782.03 Brocton1,208,244.55 Cassadaga Valley1,946,641.85 Chautauqua277,601.98 Clymer567,582.18 Dunkirk3,241,620.00 Falconer1,822,890.42 Forestville859,710.20 Fredonia1,994,545.18 Frewsburg1,408,784.51 Jamestown8,532,417.28 Mayville- Panama1,051,508.95 Pine Valley1,202,596.51 Ripley643,590.29 Sherman810,621.38 Silver Creek1,692,258.65 Southwestern1,966,339.58 Westfield1,135,741.82 CHEMUNG 18,528,592.29 Elmira11,262,901.40 Elmira Heights1,677,937.75 Horseheads5,587,753.14 CHENANGO 14,220,678.09\"\n",
      "s3 = \" Afton1,059,907.92 Bainbridge1,329,976.99 Georgetown611,146.63 Greene2,046,295.21 Mount Upton- New Berlin- Norwich3,457,797.09 Otselic Valley- Oxford1,439,823.27 South New Berlin- Sherburne-Earlville2,684,851.21 Unadilla Valley1,590,879.77 CLINTON 17,245,554.38  Ausable Valley1,856,203.79 Beekmantown2,586,599.66 Chazy666,264.01 Dannemora- Northeastern2,188,634.13 Northern Adirondack1,559,053.41 Peru3,193,124.73 Plattsburgh2,558,264.66 Saranac2,637,409.99 COLUMBIA 5,742,501.88 Berkshire Farm- Chatham464,627.51 Copake-Taconic Hills388,260.96 Germantown334,246.76 Hudson2,384,862.97 Kinderhook2,036,695.34 New Lebanon133,808.34 CORTLAND 10,777,863.39 Cincinnatus1,091,359.03 Cortland4,116,384.65 Homer3,163,922.23 Marathon1,436,274.28 McGraw969,923.20 DELAWARE 6,832,335.35  Andes22,570.76 Charlotte Valley556,151.22 Delhi825,355.78 Downsville58,832.71 Franklin355,133.12 Grand Gorge- Hancock568,688.65 Margaretville106,867.23 Roxbury111,644.82\""
     ],
     "language": "python",
     "metadata": {},
     "outputs": [],
     "prompt_number": 1
    },
    {
     "cell_type": "code",
     "collapsed": false,
     "input": [
      "s1new = \"\"\n",
      "s1list = []\n",
      "for i in range(len(s1)):\n",
      "    if s1[i].isdigit == True and s1[i-1].isalpha == False \n",
      "    "
     ],
     "language": "python",
     "metadata": {},
     "outputs": [
      {
       "ename": "SyntaxError",
       "evalue": "invalid syntax (<ipython-input-2-10c720883061>, line 4)",
       "output_type": "pyerr",
       "traceback": [
        "\u001b[0;36m  File \u001b[0;32m\"<ipython-input-2-10c720883061>\"\u001b[0;36m, line \u001b[0;32m4\u001b[0m\n\u001b[0;31m    if ch in [\"0\",\"1\",\"2\",\"3\",\"4\",\"5\",\"6\",\"7\",\"8\",\"9\",\",\",\".\"]\u001b[0m\n\u001b[0m                                                               ^\u001b[0m\n\u001b[0;31mSyntaxError\u001b[0m\u001b[0;31m:\u001b[0m invalid syntax\n"
       ]
      }
     ],
     "prompt_number": 2
    },
    {
     "cell_type": "code",
     "collapsed": false,
     "input": [
      "\"4\".isdigit()"
     ],
     "language": "python",
     "metadata": {},
     "outputs": [
      {
       "metadata": {},
       "output_type": "pyout",
       "prompt_number": 6,
       "text": [
        "True"
       ]
      }
     ],
     "prompt_number": 6
    },
    {
     "cell_type": "code",
     "collapsed": false,
     "input": [
      "s1.string.parse()"
     ],
     "language": "python",
     "metadata": {},
     "outputs": [
      {
       "ename": "AttributeError",
       "evalue": "'str' object has no attribute 'string'",
       "output_type": "pyerr",
       "traceback": [
        "\u001b[0;31m---------------------------------------------------------------------------\u001b[0m\n\u001b[0;31mAttributeError\u001b[0m                            Traceback (most recent call last)",
        "\u001b[0;32m<ipython-input-17-ec2ab18f4f0f>\u001b[0m in \u001b[0;36m<module>\u001b[0;34m()\u001b[0m\n\u001b[0;32m----> 1\u001b[0;31m \u001b[0ms1\u001b[0m\u001b[0;34m.\u001b[0m\u001b[0mstring\u001b[0m\u001b[0;34m.\u001b[0m\u001b[0mparse\u001b[0m\u001b[0;34m(\u001b[0m\u001b[0;34m)\u001b[0m\u001b[0;34m\u001b[0m\u001b[0m\n\u001b[0m",
        "\u001b[0;31mAttributeError\u001b[0m: 'str' object has no attribute 'string'"
       ]
      }
     ],
     "prompt_number": 17
    },
    {
     "cell_type": "code",
     "collapsed": false,
     "input": [
      "string.ascii_letters"
     ],
     "language": "python",
     "metadata": {},
     "outputs": [
      {
       "metadata": {},
       "output_type": "pyout",
       "prompt_number": 14,
       "text": [
        "'abcdefghijklmnopqrstuvwxyzABCDEFGHIJKLMNOPQRSTUVWXYZ'"
       ]
      }
     ],
     "prompt_number": 14
    },
    {
     "cell_type": "code",
     "collapsed": false,
     "input": [],
     "language": "python",
     "metadata": {},
     "outputs": []
    }
   ],
   "metadata": {}
  }
 ]
}
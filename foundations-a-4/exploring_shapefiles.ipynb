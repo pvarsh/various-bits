{
 "metadata": {
  "name": "",
  "signature": "sha256:d5b94e9fbcc9c554d47933860fd72731a0fc5ff43b3075bab305feed132fde72"
 },
 "nbformat": 3,
 "nbformat_minor": 0,
 "worksheets": [
  {
   "cells": [
    {
     "cell_type": "code",
     "collapsed": false,
     "input": [
      "import os\n",
      "import shapefile\n",
      "import matplotlib.pyplot as plt\n",
      "\n",
      "%matplotlib inline"
     ],
     "language": "python",
     "metadata": {},
     "outputs": [],
     "prompt_number": 12
    },
    {
     "cell_type": "code",
     "collapsed": false,
     "input": [
      "shpPath = \"shps390\"\n",
      "annualShpFile = \"com_annual.shp\"\n",
      "annualShpFile = os.path.join(shpPath, annualShpFile)"
     ],
     "language": "python",
     "metadata": {},
     "outputs": [],
     "prompt_number": 21
    },
    {
     "cell_type": "code",
     "collapsed": false,
     "input": [
      "dat = shapefile.Reader(annualShpFile)"
     ],
     "language": "python",
     "metadata": {},
     "outputs": [],
     "prompt_number": 22
    },
    {
     "cell_type": "code",
     "collapsed": false,
     "input": [
      "dat.fields\n"
     ],
     "language": "python",
     "metadata": {},
     "outputs": [
      {
       "metadata": {},
       "output_type": "pyout",
       "prompt_number": 23,
       "text": [
        "[('DeletionFlag', 'C', 1, 0),\n",
        " ['ID', 'N', 32, 10],\n",
        " ['O_XMIN', 'N', 32, 10],\n",
        " ['O_XMAX', 'N', 32, 10],\n",
        " ['O_YMIN', 'N', 32, 10],\n",
        " ['O_YMAX', 'N', 32, 10],\n",
        " ['TOTCO2', 'N', 32, 10]]"
       ]
      }
     ],
     "prompt_number": 23
    },
    {
     "cell_type": "code",
     "collapsed": false,
     "input": [
      "dat.fields[6]\n"
     ],
     "language": "python",
     "metadata": {},
     "outputs": [
      {
       "metadata": {},
       "output_type": "pyout",
       "prompt_number": 46,
       "text": [
        "['TOTCO2', 'N', 32, 10]"
       ]
      }
     ],
     "prompt_number": 46
    },
    {
     "cell_type": "code",
     "collapsed": false,
     "input": [
      "recordIndex = 0\n",
      "for record in dat.iterRecords():\n",
      "    recordIndex += 1 "
     ],
     "language": "python",
     "metadata": {},
     "outputs": [],
     "prompt_number": 29
    },
    {
     "cell_type": "code",
     "collapsed": false,
     "input": [
      "recordIndex"
     ],
     "language": "python",
     "metadata": {},
     "outputs": [
      {
       "metadata": {},
       "output_type": "pyout",
       "prompt_number": 30,
       "text": [
        "180492"
       ]
      }
     ],
     "prompt_number": 30
    },
    {
     "cell_type": "code",
     "collapsed": false,
     "input": [
      "shape = dat.shapeRecord(0).shape\n",
      "zip(*shape.points)"
     ],
     "language": "python",
     "metadata": {},
     "outputs": [
      {
       "metadata": {},
       "output_type": "pyout",
       "prompt_number": 47,
       "text": [
        "[(-137.25705355937993,\n",
        "  -137.12833759156092,\n",
        "  -137.06753710357458,\n",
        "  -137.19611172964804,\n",
        "  -137.25705355937993),\n",
        " (51.969146064738794,\n",
        "  52.00678124840114,\n",
        "  51.92726500777028,\n",
        "  51.88966930702982,\n",
        "  51.969146064738794)]"
       ]
      }
     ],
     "prompt_number": 47
    },
    {
     "cell_type": "code",
     "collapsed": false,
     "input": [
      "x = [pair[0] for pair in shape.points]\n",
      "y = [pair[1] for pair in shape.points]\n",
      "\n",
      "fig, ax = plt.subplots(figsize = (10, 5))\n",
      "ax.scatter(x, y)\n",
      "plt.show()"
     ],
     "language": "python",
     "metadata": {},
     "outputs": [
      {
       "metadata": {},
       "output_type": "display_data",
       "png": "[encoded data removed]",
       "text": [
        "<matplotlib.figure.Figure at 0x10d3724d0>"
       ]
      }
     ],
     "prompt_number": 44
    },
    {
     "cell_type": "code",
     "collapsed": false,
     "input": [],
     "language": "python",
     "metadata": {},
     "outputs": [],
     "prompt_number": 43
    },
    {
     "cell_type": "code",
     "collapsed": false,
     "input": [],
     "language": "python",
     "metadata": {},
     "outputs": []
    }
   ],
   "metadata": {}
  }
 ]
}
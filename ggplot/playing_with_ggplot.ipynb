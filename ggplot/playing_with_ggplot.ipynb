{
 "metadata": {
  "name": "",
  "signature": "sha256:9459ff3f2698d345a6ce225cf1228f3fd82254c40dc27b5c8be49b672ec3c263"
 },
 "nbformat": 3,
 "nbformat_minor": 0,
 "worksheets": [
  {
   "cells": [
    {
     "cell_type": "code",
     "collapsed": false,
     "input": [
      "from ggplot import *"
     ],
     "language": "python",
     "metadata": {},
     "outputs": [],
     "prompt_number": 2
    },
    {
     "cell_type": "code",
     "collapsed": false,
     "input": [],
     "language": "python",
     "metadata": {},
     "outputs": []
    }
   ],
   "metadata": {}
  }
 ]
}
{
 "metadata": {
  "name": "",
  "signature": "sha256:068fa3a989eca640ceb55b4c78482cf3652ede3d2bdfc3908830d1f96ef5a7ee"
 },
 "nbformat": 3,
 "nbformat_minor": 0,
 "worksheets": [
  {
   "cells": [
    {
     "cell_type": "code",
     "collapsed": false,
     "input": [
      "#### PROBLEM 2\n",
      "import math\n",
      "\n",
      "x = [1,2,3]\n",
      "y = math.log(3)\n"
     ],
     "language": "python",
     "metadata": {},
     "outputs": [],
     "prompt_number": 7
    },
    {
     "cell_type": "heading",
     "level": 1,
     "metadata": {},
     "source": [
      "#### PROBLEM 3\n",
      "    "
     ]
    },
    {
     "cell_type": "code",
     "collapsed": false,
     "input": [],
     "language": "python",
     "metadata": {},
     "outputs": []
    }
   ],
   "metadata": {}
  }
 ]
}
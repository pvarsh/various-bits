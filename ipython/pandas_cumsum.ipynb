{
 "metadata": {
  "name": "",
  "signature": "sha256:c1b20fc4f083e1183fd9939dad6f6873bd91bfbcb28cce3a979aba289751e18f"
 },
 "nbformat": 3,
 "nbformat_minor": 0,
 "worksheets": [
  {
   "cells": [
    {
     "cell_type": "code",
     "collapsed": false,
     "input": [
      "### Solution modeled after CT Zhu's answer on http://stackoverflow.com/questions/22650833/pandas-groupby-cumulative-sum\n",
      "\n",
      "import pandas as pd\n",
      "import numpy as np"
     ],
     "language": "python",
     "metadata": {},
     "outputs": [],
     "prompt_number": 1
    },
    {
     "cell_type": "code",
     "collapsed": false,
     "input": [
      "### note that accounts are not unique, but dates are unique within each account\n",
      "\n",
      "account = [1, 2, 3, 3, 3, 4, 4, 5]\n",
      "date = [1, 1, 1, 2, 3, 1, 2, 1]\n",
      "cumVars = np.abs(np.random.randn(len(x)))\n",
      "ind = range(len(x))\n",
      "df = {'account': account, 'date': date, 'cumVars': cumVars}\n",
      "df = pd.DataFrame(df)"
     ],
     "language": "python",
     "metadata": {},
     "outputs": [],
     "prompt_number": 23
    },
    {
     "cell_type": "code",
     "collapsed": false,
     "input": [
      "df"
     ],
     "language": "python",
     "metadata": {},
     "outputs": [
      {
       "html": [
        "<div style=\"max-height:1000px;max-width:1500px;overflow:auto;\">\n",
        "<table border=\"1\" class=\"dataframe\">\n",
        "  <thead>\n",
        "    <tr style=\"text-align: right;\">\n",
        "      <th></th>\n",
        "      <th>account</th>\n",
        "      <th>cumVars</th>\n",
        "      <th>date</th>\n",
        "    </tr>\n",
        "  </thead>\n",
        "  <tbody>\n",
        "    <tr>\n",
        "      <th>0</th>\n",
        "      <td> 1</td>\n",
        "      <td> 1.012947</td>\n",
        "      <td> 1</td>\n",
        "    </tr>\n",
        "    <tr>\n",
        "      <th>1</th>\n",
        "      <td> 2</td>\n",
        "      <td> 1.443742</td>\n",
        "      <td> 1</td>\n",
        "    </tr>\n",
        "    <tr>\n",
        "      <th>2</th>\n",
        "      <td> 3</td>\n",
        "      <td> 0.431204</td>\n",
        "      <td> 1</td>\n",
        "    </tr>\n",
        "    <tr>\n",
        "      <th>3</th>\n",
        "      <td> 3</td>\n",
        "      <td> 1.056875</td>\n",
        "      <td> 2</td>\n",
        "    </tr>\n",
        "    <tr>\n",
        "      <th>4</th>\n",
        "      <td> 3</td>\n",
        "      <td> 0.070064</td>\n",
        "      <td> 3</td>\n",
        "    </tr>\n",
        "    <tr>\n",
        "      <th>5</th>\n",
        "      <td> 4</td>\n",
        "      <td> 0.675423</td>\n",
        "      <td> 1</td>\n",
        "    </tr>\n",
        "    <tr>\n",
        "      <th>6</th>\n",
        "      <td> 4</td>\n",
        "      <td> 1.721162</td>\n",
        "      <td> 2</td>\n",
        "    </tr>\n",
        "    <tr>\n",
        "      <th>7</th>\n",
        "      <td> 5</td>\n",
        "      <td> 1.032209</td>\n",
        "      <td> 1</td>\n",
        "    </tr>\n",
        "  </tbody>\n",
        "</table>\n",
        "</div>"
       ],
       "metadata": {},
       "output_type": "pyout",
       "prompt_number": 24,
       "text": [
        "   account   cumVars  date\n",
        "0        1  1.012947     1\n",
        "1        2  1.443742     1\n",
        "2        3  0.431204     1\n",
        "3        3  1.056875     2\n",
        "4        3  0.070064     3\n",
        "5        4  0.675423     1\n",
        "6        4  1.721162     2\n",
        "7        5  1.032209     1"
       ]
      }
     ],
     "prompt_number": 24
    },
    {
     "cell_type": "code",
     "collapsed": false,
     "input": [
      "cumsums = df.groupby(by=['account','date']).sum().groupby(level=[0]).cumsum()\n",
      "### Cumulative sums restart for each account\n",
      "print cumsums\n",
      "### Note that now you have a two-level index\n",
      "cumsums.index"
     ],
     "language": "python",
     "metadata": {},
     "outputs": [
      {
       "output_type": "stream",
       "stream": "stdout",
       "text": [
        "               cumVars\n",
        "account date          \n",
        "1       1     1.012947\n",
        "2       1     1.443742\n",
        "3       1     0.431204\n",
        "        2     1.488079\n",
        "        3     1.558143\n",
        "4       1     0.675423\n",
        "        2     2.396585\n",
        "5       1     1.032209\n"
       ]
      },
      {
       "metadata": {},
       "output_type": "pyout",
       "prompt_number": 36,
       "text": [
        "MultiIndex(levels=[[1, 2, 3, 4, 5], [1, 2, 3]],\n",
        "           labels=[[0, 1, 2, 2, 2, 3, 3, 4], [0, 0, 0, 1, 2, 0, 1, 0]],\n",
        "           names=[u'account', u'date'])"
       ]
      }
     ],
     "prompt_number": 36
    },
    {
     "cell_type": "code",
     "collapsed": false,
     "input": [],
     "language": "python",
     "metadata": {},
     "outputs": []
    }
   ],
   "metadata": {}
  }
 ]
}
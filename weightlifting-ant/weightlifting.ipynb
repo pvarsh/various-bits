{
 "metadata": {
  "name": "",
  "signature": "sha256:61ba167a10e06c86b9a6a8c62d5365e86f4d53e22f28098e736075a7b3cf97cb"
 },
 "nbformat": 3,
 "nbformat_minor": 0,
 "worksheets": [
  {
   "cells": [
    {
     "cell_type": "code",
     "collapsed": false,
     "input": [
      "import numpy as np\n",
      "import matplotlib.pyplot as plt\n",
      "import pandas as pd\n",
      "\n",
      "%matplotlib inline"
     ],
     "language": "python",
     "metadata": {},
     "outputs": [],
     "prompt_number": 1
    },
    {
     "cell_type": "code",
     "collapsed": false,
     "input": [
      "### Data. 2012 results from WikiPedia\n",
      "results2012 = [[\"105+\", 1, 168.19, 208, 247],\n",
      "               [\"105+\", 2, 152.46, 204, 245],\n",
      "               [\"105+\", 3, 147.15, 208, 240],\n",
      "               [105, 1, 104.31, 185, 227],\n",
      "               [105, 2, 104.41, 184, 227],\n",
      "               [105, 3, 104.01, 190, 220],\n",
      "               [94, 1, 93.52, 185, 223],\n",
      "               [94, 2, 93.30, 185, 224],\n",
      "               [94, 3, 93.29, 181, 226],\n",
      "               [85, 1, 84.62, 174, 211],\n",
      "               [85, 2, 84.75, 175, 210],\n",
      "               [85, 3, 84.35, 171, 209],\n",
      "               [77, 1, 76.62, 175, 204],\n",
      "               [77, 2, 76.37, 170, 190],\n",
      "               [77, 3, 76.70, 155, 194],\n",
      "               [69, 1, 67.79, 157, 187],\n",
      "               [69, 2, 68.88, 145, 188],\n",
      "               [69, 3, 68.61, 152, 180],\n",
      "               [62, 1, 61.77, 153, 174],\n",
      "               [62, 2, 61.76, 140, 177],\n",
      "               [62, 3, 61.89, 145, 172],\n",
      "               [56, 1, 55.76, 125, 168],\n",
      "               [56, 2, 55.91, 133, 156],\n",
      "               [56, 3, 55.84, 127, 159],\n",
      "               ['ant', 0, 0.005, 0.125, 0.25]]"
     ],
     "language": "python",
     "metadata": {},
     "outputs": [],
     "prompt_number": 56
    },
    {
     "cell_type": "code",
     "collapsed": false,
     "input": [
      "def lol_transpose(lol):\n",
      "    return [[row[col] for row in lol] for col in range(len(lol[0]))]\n",
      "resultColumns = lol_transpose(results2012)\n",
      "resultColumns = {\"category\" : resultColumns[0], \"place\" : resultColumns[1], \"bodyweight\" : resultColumns[2], \"snatch\" : resultColumns[3], \"clean\" : resultColumns[4]}"
     ],
     "language": "python",
     "metadata": {},
     "outputs": [],
     "prompt_number": 57
    },
    {
     "cell_type": "code",
     "collapsed": false,
     "input": [
      "results = pd.DataFrame(resultColumns)\n",
      "results['color'] = np.zeros(results.shape[0])\n",
      "results.color[results.place == 1] = \"#ffd700\"\n",
      "results.color[results.place == 2] = \"#c0c0c0\"\n",
      "results.color[results.place == 3] = \"#cc9966\"\n",
      "results.color[results.place == 0] = \"#000000\""
     ],
     "language": "python",
     "metadata": {},
     "outputs": [],
     "prompt_number": 58
    },
    {
     "cell_type": "code",
     "collapsed": false,
     "input": [],
     "language": "python",
     "metadata": {},
     "outputs": [],
     "prompt_number": 58
    },
    {
     "cell_type": "code",
     "collapsed": false,
     "input": [
      "fig2, ax2 = plt.subplots(num = 2, figsize = (10,6))\n",
      "#plt.plot(np.log(results.bodyweight), np.log(results.snatch), marker = \"o\", color = results.color)\n",
      "# for row in results.index:\n",
      "#     ax1.scatter(np.log(results.bodyweight[row]), np.log(results.snatch[row]), color = results.color[row], marker = 'o')\n",
      "#     #plt.plot(np.log(results.bodyweight), np.log(results.snatch), color = results.color)\n",
      "# plt.show()\n",
      "ax2.scatter(x = np.log(results.bodyweight * 1000), y = np.log(results.snatch + results.clean * 1000), color = results.color, s = 80, alpha = 0.5)\n",
      "plt.show()"
     ],
     "language": "python",
     "metadata": {},
     "outputs": [
      {
       "metadata": {},
       "output_type": "display_data",
       "png": "[encoded data removed]",
       "text": [
        "<matplotlib.figure.Figure at 0x10fc9dad0>"
       ]
      }
     ],
     "prompt_number": 59
    },
    {
     "cell_type": "code",
     "collapsed": false,
     "input": [],
     "language": "python",
     "metadata": {},
     "outputs": [],
     "prompt_number": 6
    }
   ],
   "metadata": {}
  }
 ]
}
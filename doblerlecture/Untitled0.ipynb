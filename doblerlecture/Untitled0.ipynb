{
 "metadata": {
  "name": "",
  "signature": "sha256:1123762af14e0752980c1474180360fe7a511e50f315ccfb936821688b83a8fe"
 },
 "nbformat": 3,
 "nbformat_minor": 0,
 "worksheets": [
  {
   "cells": [
    {
     "cell_type": "code",
     "collapsed": false,
     "input": [
      "import numpy as np\n",
      "import scipy as sp\n",
      "import scipy.ndimage as nd\n",
      "from matplotlib import pyplot as plt\n",
      "\n",
      "x = nd.imread(\"mona-lisa-cmyk.jpg\")\n",
      "x.shape"
     ],
     "language": "python",
     "metadata": {},
     "outputs": []
    },
    {
     "cell_type": "code",
     "collapsed": false,
     "input": [
      "fig6, ax6 = plt.subplots(1,3, num =6)\n",
      "fig6.subplots_adjust(0, 0, 1, 1, 0, 0)\n",
      "[i.axis('off') for i in ax6]\n",
      "im6a = ax6[0].imshow(x)\n",
      "fig6.canvas.draw()\n",
      "plt.show()"
     ],
     "language": "python",
     "metadata": {},
     "outputs": []
    },
    {
     "cell_type": "code",
     "collapsed": false,
     "input": [],
     "language": "python",
     "metadata": {},
     "outputs": []
    }
   ],
   "metadata": {}
  }
 ]
}